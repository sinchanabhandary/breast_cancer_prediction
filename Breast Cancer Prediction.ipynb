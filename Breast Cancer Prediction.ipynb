{
  "nbformat": 4,
  "nbformat_minor": 0,
  "metadata": {
    "colab": {
      "provenance": [],
      "toc_visible": true
    },
    "kernelspec": {
      "name": "python3",
      "display_name": "Python 3"
    },
    "language_info": {
      "name": "python"
    }
  },
  "cells": [
    {
      "cell_type": "code",
      "execution_count": null,
      "metadata": {
        "id": "ZD39EILMnYKO"
      },
      "outputs": [],
      "source": [
        "import numpy as np\n",
        "import pandas as pd\n",
        "import matplotlib.pyplot as plt\n",
        "from sklearn.model_selection import train_test_split\n",
        "from sklearn.preprocessing import LabelEncoder, StandardScaler"
      ]
    },
    {
      "cell_type": "code",
      "source": [
        "df = pd.read_csv(\"breast.csv\")\n",
        "df.head()"
      ],
      "metadata": {
        "colab": {
          "base_uri": "https://localhost:8080/",
          "height": 562
        },
        "id": "iZ-PeSFynjJW",
        "outputId": "8f3ae626-586d-4941-f955-6b09767f760d"
      },
      "execution_count": null,
      "outputs": [
        {
          "output_type": "execute_result",
          "data": {
            "text/plain": [
              "   Age                                              Race   \\\n",
              "0   43  Other (American Indian/AK Native, Asian/Pacifi...   \n",
              "1   47  Other (American Indian/AK Native, Asian/Pacifi...   \n",
              "2   67                                              White   \n",
              "3   46                                              White   \n",
              "4   63                                              White   \n",
              "\n",
              "                   Marital Status T Stage  N Stage 6th Stage  \\\n",
              "0  Married (including common law)       T2      N3      IIIC   \n",
              "1  Married (including common law)       T2      N2      IIIA   \n",
              "2  Married (including common law)       T2      N1       IIB   \n",
              "3                        Divorced       T1      N1       IIA   \n",
              "4  Married (including common law)       T2      N2      IIIA   \n",
              "\n",
              "                                 Grade   A Stage  Tumor Size Estrogen Status  \\\n",
              "0  Moderately differentiated; Grade II  Regional          40        Positive   \n",
              "1  Moderately differentiated; Grade II  Regional          45        Positive   \n",
              "2     Poorly differentiated; Grade III  Regional          25        Positive   \n",
              "3  Moderately differentiated; Grade II  Regional          19        Positive   \n",
              "4  Moderately differentiated; Grade II  Regional          35        Positive   \n",
              "\n",
              "  Progesterone Status  Regional Node Examined  Reginol Node Positive  \\\n",
              "0            Positive                      19                     11   \n",
              "1            Positive                      25                      9   \n",
              "2            Positive                       4                      1   \n",
              "3            Positive                      26                      1   \n",
              "4            Positive                      21                      5   \n",
              "\n",
              "   Survival Months Status  \n",
              "0                1  Alive  \n",
              "1                2  Alive  \n",
              "2                2   Dead  \n",
              "3                2   Dead  \n",
              "4                3   Dead  "
            ],
            "text/html": [
              "\n",
              "  <div id=\"df-3366da42-c459-4587-aaa3-d3c050e53b78\">\n",
              "    <div class=\"colab-df-container\">\n",
              "      <div>\n",
              "<style scoped>\n",
              "    .dataframe tbody tr th:only-of-type {\n",
              "        vertical-align: middle;\n",
              "    }\n",
              "\n",
              "    .dataframe tbody tr th {\n",
              "        vertical-align: top;\n",
              "    }\n",
              "\n",
              "    .dataframe thead th {\n",
              "        text-align: right;\n",
              "    }\n",
              "</style>\n",
              "<table border=\"1\" class=\"dataframe\">\n",
              "  <thead>\n",
              "    <tr style=\"text-align: right;\">\n",
              "      <th></th>\n",
              "      <th>Age</th>\n",
              "      <th>Race</th>\n",
              "      <th>Marital Status</th>\n",
              "      <th>T Stage</th>\n",
              "      <th>N Stage</th>\n",
              "      <th>6th Stage</th>\n",
              "      <th>Grade</th>\n",
              "      <th>A Stage</th>\n",
              "      <th>Tumor Size</th>\n",
              "      <th>Estrogen Status</th>\n",
              "      <th>Progesterone Status</th>\n",
              "      <th>Regional Node Examined</th>\n",
              "      <th>Reginol Node Positive</th>\n",
              "      <th>Survival Months</th>\n",
              "      <th>Status</th>\n",
              "    </tr>\n",
              "  </thead>\n",
              "  <tbody>\n",
              "    <tr>\n",
              "      <th>0</th>\n",
              "      <td>43</td>\n",
              "      <td>Other (American Indian/AK Native, Asian/Pacifi...</td>\n",
              "      <td>Married (including common law)</td>\n",
              "      <td>T2</td>\n",
              "      <td>N3</td>\n",
              "      <td>IIIC</td>\n",
              "      <td>Moderately differentiated; Grade II</td>\n",
              "      <td>Regional</td>\n",
              "      <td>40</td>\n",
              "      <td>Positive</td>\n",
              "      <td>Positive</td>\n",
              "      <td>19</td>\n",
              "      <td>11</td>\n",
              "      <td>1</td>\n",
              "      <td>Alive</td>\n",
              "    </tr>\n",
              "    <tr>\n",
              "      <th>1</th>\n",
              "      <td>47</td>\n",
              "      <td>Other (American Indian/AK Native, Asian/Pacifi...</td>\n",
              "      <td>Married (including common law)</td>\n",
              "      <td>T2</td>\n",
              "      <td>N2</td>\n",
              "      <td>IIIA</td>\n",
              "      <td>Moderately differentiated; Grade II</td>\n",
              "      <td>Regional</td>\n",
              "      <td>45</td>\n",
              "      <td>Positive</td>\n",
              "      <td>Positive</td>\n",
              "      <td>25</td>\n",
              "      <td>9</td>\n",
              "      <td>2</td>\n",
              "      <td>Alive</td>\n",
              "    </tr>\n",
              "    <tr>\n",
              "      <th>2</th>\n",
              "      <td>67</td>\n",
              "      <td>White</td>\n",
              "      <td>Married (including common law)</td>\n",
              "      <td>T2</td>\n",
              "      <td>N1</td>\n",
              "      <td>IIB</td>\n",
              "      <td>Poorly differentiated; Grade III</td>\n",
              "      <td>Regional</td>\n",
              "      <td>25</td>\n",
              "      <td>Positive</td>\n",
              "      <td>Positive</td>\n",
              "      <td>4</td>\n",
              "      <td>1</td>\n",
              "      <td>2</td>\n",
              "      <td>Dead</td>\n",
              "    </tr>\n",
              "    <tr>\n",
              "      <th>3</th>\n",
              "      <td>46</td>\n",
              "      <td>White</td>\n",
              "      <td>Divorced</td>\n",
              "      <td>T1</td>\n",
              "      <td>N1</td>\n",
              "      <td>IIA</td>\n",
              "      <td>Moderately differentiated; Grade II</td>\n",
              "      <td>Regional</td>\n",
              "      <td>19</td>\n",
              "      <td>Positive</td>\n",
              "      <td>Positive</td>\n",
              "      <td>26</td>\n",
              "      <td>1</td>\n",
              "      <td>2</td>\n",
              "      <td>Dead</td>\n",
              "    </tr>\n",
              "    <tr>\n",
              "      <th>4</th>\n",
              "      <td>63</td>\n",
              "      <td>White</td>\n",
              "      <td>Married (including common law)</td>\n",
              "      <td>T2</td>\n",
              "      <td>N2</td>\n",
              "      <td>IIIA</td>\n",
              "      <td>Moderately differentiated; Grade II</td>\n",
              "      <td>Regional</td>\n",
              "      <td>35</td>\n",
              "      <td>Positive</td>\n",
              "      <td>Positive</td>\n",
              "      <td>21</td>\n",
              "      <td>5</td>\n",
              "      <td>3</td>\n",
              "      <td>Dead</td>\n",
              "    </tr>\n",
              "  </tbody>\n",
              "</table>\n",
              "</div>\n",
              "      <button class=\"colab-df-convert\" onclick=\"convertToInteractive('df-3366da42-c459-4587-aaa3-d3c050e53b78')\"\n",
              "              title=\"Convert this dataframe to an interactive table.\"\n",
              "              style=\"display:none;\">\n",
              "        \n",
              "  <svg xmlns=\"http://www.w3.org/2000/svg\" height=\"24px\"viewBox=\"0 0 24 24\"\n",
              "       width=\"24px\">\n",
              "    <path d=\"M0 0h24v24H0V0z\" fill=\"none\"/>\n",
              "    <path d=\"M18.56 5.44l.94 2.06.94-2.06 2.06-.94-2.06-.94-.94-2.06-.94 2.06-2.06.94zm-11 1L8.5 8.5l.94-2.06 2.06-.94-2.06-.94L8.5 2.5l-.94 2.06-2.06.94zm10 10l.94 2.06.94-2.06 2.06-.94-2.06-.94-.94-2.06-.94 2.06-2.06.94z\"/><path d=\"M17.41 7.96l-1.37-1.37c-.4-.4-.92-.59-1.43-.59-.52 0-1.04.2-1.43.59L10.3 9.45l-7.72 7.72c-.78.78-.78 2.05 0 2.83L4 21.41c.39.39.9.59 1.41.59.51 0 1.02-.2 1.41-.59l7.78-7.78 2.81-2.81c.8-.78.8-2.07 0-2.86zM5.41 20L4 18.59l7.72-7.72 1.47 1.35L5.41 20z\"/>\n",
              "  </svg>\n",
              "      </button>\n",
              "      \n",
              "  <style>\n",
              "    .colab-df-container {\n",
              "      display:flex;\n",
              "      flex-wrap:wrap;\n",
              "      gap: 12px;\n",
              "    }\n",
              "\n",
              "    .colab-df-convert {\n",
              "      background-color: #E8F0FE;\n",
              "      border: none;\n",
              "      border-radius: 50%;\n",
              "      cursor: pointer;\n",
              "      display: none;\n",
              "      fill: #1967D2;\n",
              "      height: 32px;\n",
              "      padding: 0 0 0 0;\n",
              "      width: 32px;\n",
              "    }\n",
              "\n",
              "    .colab-df-convert:hover {\n",
              "      background-color: #E2EBFA;\n",
              "      box-shadow: 0px 1px 2px rgba(60, 64, 67, 0.3), 0px 1px 3px 1px rgba(60, 64, 67, 0.15);\n",
              "      fill: #174EA6;\n",
              "    }\n",
              "\n",
              "    [theme=dark] .colab-df-convert {\n",
              "      background-color: #3B4455;\n",
              "      fill: #D2E3FC;\n",
              "    }\n",
              "\n",
              "    [theme=dark] .colab-df-convert:hover {\n",
              "      background-color: #434B5C;\n",
              "      box-shadow: 0px 1px 3px 1px rgba(0, 0, 0, 0.15);\n",
              "      filter: drop-shadow(0px 1px 2px rgba(0, 0, 0, 0.3));\n",
              "      fill: #FFFFFF;\n",
              "    }\n",
              "  </style>\n",
              "\n",
              "      <script>\n",
              "        const buttonEl =\n",
              "          document.querySelector('#df-3366da42-c459-4587-aaa3-d3c050e53b78 button.colab-df-convert');\n",
              "        buttonEl.style.display =\n",
              "          google.colab.kernel.accessAllowed ? 'block' : 'none';\n",
              "\n",
              "        async function convertToInteractive(key) {\n",
              "          const element = document.querySelector('#df-3366da42-c459-4587-aaa3-d3c050e53b78');\n",
              "          const dataTable =\n",
              "            await google.colab.kernel.invokeFunction('convertToInteractive',\n",
              "                                                     [key], {});\n",
              "          if (!dataTable) return;\n",
              "\n",
              "          const docLinkHtml = 'Like what you see? Visit the ' +\n",
              "            '<a target=\"_blank\" href=https://colab.research.google.com/notebooks/data_table.ipynb>data table notebook</a>'\n",
              "            + ' to learn more about interactive tables.';\n",
              "          element.innerHTML = '';\n",
              "          dataTable['output_type'] = 'display_data';\n",
              "          await google.colab.output.renderOutput(dataTable, element);\n",
              "          const docLink = document.createElement('div');\n",
              "          docLink.innerHTML = docLinkHtml;\n",
              "          element.appendChild(docLink);\n",
              "        }\n",
              "      </script>\n",
              "    </div>\n",
              "  </div>\n",
              "  "
            ]
          },
          "metadata": {},
          "execution_count": 4
        }
      ]
    },
    {
      "cell_type": "code",
      "source": [
        "df.isnull().sum()"
      ],
      "metadata": {
        "colab": {
          "base_uri": "https://localhost:8080/"
        },
        "id": "izqDq4Y_nmzA",
        "outputId": "2838c708-b2f5-4519-a9ea-455eb5c8a220"
      },
      "execution_count": null,
      "outputs": [
        {
          "output_type": "execute_result",
          "data": {
            "text/plain": [
              "Age                       0\n",
              "Race                      0\n",
              "Marital Status            0\n",
              "T Stage                   0\n",
              "N Stage                   0\n",
              "6th Stage                 0\n",
              "Grade                     0\n",
              "A Stage                   0\n",
              "Tumor Size                0\n",
              "Estrogen Status           0\n",
              "Progesterone Status       0\n",
              "Regional Node Examined    0\n",
              "Reginol Node Positive     0\n",
              "Survival Months           0\n",
              "Status                    0\n",
              "dtype: int64"
            ]
          },
          "metadata": {},
          "execution_count": 6
        }
      ]
    },
    {
      "cell_type": "code",
      "source": [
        "encoded_data = pd.get_dummies(df, columns=['Race ','Marital Status', 'T Stage ','N Stage','6th Stage','Grade', 'A Stage','Estrogen Status','Progesterone Status'], drop_first=True)\n",
        "encoded_data['Status'] = LabelEncoder().fit_transform(encoded_data['Status'])\n",
        "X = encoded_data.drop(columns='Status', axis=1)\n",
        "Y = encoded_data['Status']"
      ],
      "metadata": {
        "id": "MMBkQO1En2xs"
      },
      "execution_count": null,
      "outputs": []
    },
    {
      "cell_type": "code",
      "source": [
        "X_train, X_test, Y_train, Y_test = train_test_split(X, Y, test_size=0.2, random_state=2)\n",
        "sc = StandardScaler()\n",
        "X_train = sc.fit_transform(X_train)\n",
        "X_test = sc.transform(X_test)"
      ],
      "metadata": {
        "id": "rJK_G8ejoNA9"
      },
      "execution_count": null,
      "outputs": []
    },
    {
      "cell_type": "code",
      "source": [
        "import keras\n",
        "from keras.models import Sequential\n",
        "from keras.layers import Dense"
      ],
      "metadata": {
        "id": "pm9Vqqm0oP9J"
      },
      "execution_count": null,
      "outputs": []
    },
    {
      "cell_type": "code",
      "source": [
        "cl = Sequential()\n",
        "cl.add(Dense(16, kernel_initializer='he_uniform', activation='relu', input_dim=X.shape[1]))\n",
        "cl.add(Dense(32, kernel_initializer='he_uniform', activation='relu'))\n",
        "cl.add(Dense(64, kernel_initializer='he_uniform', activation='relu'))\n",
        "cl.add(Dense(128, kernel_initializer='he_uniform', activation='relu'))\n",
        "cl.add(Dense(1, kernel_initializer='glorot_uniform', activation='sigmoid'))"
      ],
      "metadata": {
        "id": "VWHkkQlfoTbn"
      },
      "execution_count": null,
      "outputs": []
    },
    {
      "cell_type": "code",
      "source": [
        "cl.compile(optimizer='Adam', loss='binary_crossentropy', metrics=['accuracy'])\n",
        "model = cl.fit(X_train, Y_train, validation_split=0.3, batch_size=10, epochs=100)"
      ],
      "metadata": {
        "colab": {
          "base_uri": "https://localhost:8080/"
        },
        "id": "7NRRv8b6oZax",
        "outputId": "9ef09745-afc7-4a09-c488-fc4e1ba7cbae"
      },
      "execution_count": null,
      "outputs": [
        {
          "output_type": "stream",
          "name": "stdout",
          "text": [
            "Epoch 1/100\n",
            "226/226 [==============================] - 5s 5ms/step - loss: 0.4154 - accuracy: 0.8469 - val_loss: 0.3695 - val_accuracy: 0.8571\n",
            "Epoch 2/100\n",
            "226/226 [==============================] - 1s 3ms/step - loss: 0.3420 - accuracy: 0.8646 - val_loss: 0.3277 - val_accuracy: 0.8747\n",
            "Epoch 3/100\n",
            "226/226 [==============================] - 1s 2ms/step - loss: 0.3002 - accuracy: 0.8855 - val_loss: 0.3109 - val_accuracy: 0.8934\n",
            "Epoch 4/100\n",
            "226/226 [==============================] - 1s 3ms/step - loss: 0.2820 - accuracy: 0.8908 - val_loss: 0.3204 - val_accuracy: 0.8872\n",
            "Epoch 5/100\n",
            "226/226 [==============================] - 1s 3ms/step - loss: 0.2648 - accuracy: 0.8979 - val_loss: 0.3013 - val_accuracy: 0.8954\n",
            "Epoch 6/100\n",
            "226/226 [==============================] - 1s 3ms/step - loss: 0.2548 - accuracy: 0.9006 - val_loss: 0.3155 - val_accuracy: 0.8965\n",
            "Epoch 7/100\n",
            "226/226 [==============================] - 1s 3ms/step - loss: 0.2482 - accuracy: 0.9077 - val_loss: 0.3075 - val_accuracy: 0.8861\n",
            "Epoch 8/100\n",
            "226/226 [==============================] - 1s 2ms/step - loss: 0.2339 - accuracy: 0.9077 - val_loss: 0.3350 - val_accuracy: 0.8778\n",
            "Epoch 9/100\n",
            "226/226 [==============================] - 1s 3ms/step - loss: 0.2280 - accuracy: 0.9161 - val_loss: 0.3454 - val_accuracy: 0.8913\n",
            "Epoch 10/100\n",
            "226/226 [==============================] - 1s 3ms/step - loss: 0.2210 - accuracy: 0.9170 - val_loss: 0.3293 - val_accuracy: 0.8872\n",
            "Epoch 11/100\n",
            "226/226 [==============================] - 1s 2ms/step - loss: 0.2161 - accuracy: 0.9197 - val_loss: 0.3409 - val_accuracy: 0.8820\n",
            "Epoch 12/100\n",
            "226/226 [==============================] - 1s 3ms/step - loss: 0.2065 - accuracy: 0.9281 - val_loss: 0.3513 - val_accuracy: 0.8747\n",
            "Epoch 13/100\n",
            "226/226 [==============================] - 1s 2ms/step - loss: 0.1977 - accuracy: 0.9210 - val_loss: 0.3777 - val_accuracy: 0.8861\n",
            "Epoch 14/100\n",
            "226/226 [==============================] - 1s 3ms/step - loss: 0.1993 - accuracy: 0.9245 - val_loss: 0.3595 - val_accuracy: 0.8799\n",
            "Epoch 15/100\n",
            "226/226 [==============================] - 1s 4ms/step - loss: 0.1865 - accuracy: 0.9281 - val_loss: 0.3643 - val_accuracy: 0.8820\n",
            "Epoch 16/100\n",
            "226/226 [==============================] - 1s 6ms/step - loss: 0.1797 - accuracy: 0.9308 - val_loss: 0.3624 - val_accuracy: 0.8841\n",
            "Epoch 17/100\n",
            "226/226 [==============================] - 1s 5ms/step - loss: 0.1720 - accuracy: 0.9352 - val_loss: 0.3874 - val_accuracy: 0.8861\n",
            "Epoch 18/100\n",
            "226/226 [==============================] - 1s 3ms/step - loss: 0.1678 - accuracy: 0.9361 - val_loss: 0.3836 - val_accuracy: 0.8820\n",
            "Epoch 19/100\n",
            "226/226 [==============================] - 1s 2ms/step - loss: 0.1674 - accuracy: 0.9379 - val_loss: 0.3889 - val_accuracy: 0.8892\n",
            "Epoch 20/100\n",
            "226/226 [==============================] - 1s 3ms/step - loss: 0.1536 - accuracy: 0.9441 - val_loss: 0.4326 - val_accuracy: 0.8830\n",
            "Epoch 21/100\n",
            "226/226 [==============================] - 1s 3ms/step - loss: 0.1532 - accuracy: 0.9365 - val_loss: 0.4141 - val_accuracy: 0.8841\n",
            "Epoch 22/100\n",
            "226/226 [==============================] - 1s 3ms/step - loss: 0.1416 - accuracy: 0.9458 - val_loss: 0.4529 - val_accuracy: 0.8789\n",
            "Epoch 23/100\n",
            "226/226 [==============================] - 1s 3ms/step - loss: 0.1388 - accuracy: 0.9485 - val_loss: 0.4739 - val_accuracy: 0.8582\n",
            "Epoch 24/100\n",
            "226/226 [==============================] - 1s 3ms/step - loss: 0.1303 - accuracy: 0.9490 - val_loss: 0.4650 - val_accuracy: 0.8706\n",
            "Epoch 25/100\n",
            "226/226 [==============================] - 1s 3ms/step - loss: 0.1317 - accuracy: 0.9525 - val_loss: 0.4930 - val_accuracy: 0.8830\n",
            "Epoch 26/100\n",
            "226/226 [==============================] - 1s 3ms/step - loss: 0.1363 - accuracy: 0.9450 - val_loss: 0.4788 - val_accuracy: 0.8872\n",
            "Epoch 27/100\n",
            "226/226 [==============================] - 1s 3ms/step - loss: 0.1210 - accuracy: 0.9516 - val_loss: 0.4942 - val_accuracy: 0.8747\n",
            "Epoch 28/100\n",
            "226/226 [==============================] - 1s 2ms/step - loss: 0.1109 - accuracy: 0.9569 - val_loss: 0.5477 - val_accuracy: 0.8685\n",
            "Epoch 29/100\n",
            "226/226 [==============================] - 1s 3ms/step - loss: 0.1131 - accuracy: 0.9565 - val_loss: 0.5591 - val_accuracy: 0.8727\n",
            "Epoch 30/100\n",
            "226/226 [==============================] - 1s 3ms/step - loss: 0.1150 - accuracy: 0.9530 - val_loss: 0.5353 - val_accuracy: 0.8654\n",
            "Epoch 31/100\n",
            "226/226 [==============================] - 1s 3ms/step - loss: 0.1021 - accuracy: 0.9601 - val_loss: 0.5918 - val_accuracy: 0.8768\n",
            "Epoch 32/100\n",
            "226/226 [==============================] - 1s 2ms/step - loss: 0.0992 - accuracy: 0.9609 - val_loss: 0.6074 - val_accuracy: 0.8644\n",
            "Epoch 33/100\n",
            "226/226 [==============================] - 1s 2ms/step - loss: 0.1011 - accuracy: 0.9618 - val_loss: 0.5874 - val_accuracy: 0.8716\n",
            "Epoch 34/100\n",
            "226/226 [==============================] - 1s 6ms/step - loss: 0.0928 - accuracy: 0.9676 - val_loss: 0.5780 - val_accuracy: 0.8623\n",
            "Epoch 35/100\n",
            "226/226 [==============================] - 3s 11ms/step - loss: 0.0913 - accuracy: 0.9614 - val_loss: 0.6274 - val_accuracy: 0.8768\n",
            "Epoch 36/100\n",
            "226/226 [==============================] - 1s 5ms/step - loss: 0.0997 - accuracy: 0.9627 - val_loss: 0.6323 - val_accuracy: 0.8716\n",
            "Epoch 37/100\n",
            "226/226 [==============================] - 1s 3ms/step - loss: 0.1087 - accuracy: 0.9569 - val_loss: 0.6587 - val_accuracy: 0.8820\n",
            "Epoch 38/100\n",
            "226/226 [==============================] - 1s 3ms/step - loss: 0.0801 - accuracy: 0.9685 - val_loss: 0.6795 - val_accuracy: 0.8758\n",
            "Epoch 39/100\n",
            "226/226 [==============================] - 1s 3ms/step - loss: 0.0754 - accuracy: 0.9716 - val_loss: 0.6628 - val_accuracy: 0.8685\n",
            "Epoch 40/100\n",
            "226/226 [==============================] - 1s 2ms/step - loss: 0.0856 - accuracy: 0.9703 - val_loss: 0.6536 - val_accuracy: 0.8696\n",
            "Epoch 41/100\n",
            "226/226 [==============================] - 1s 3ms/step - loss: 0.0804 - accuracy: 0.9707 - val_loss: 0.7230 - val_accuracy: 0.8716\n",
            "Epoch 42/100\n",
            "226/226 [==============================] - 1s 3ms/step - loss: 0.0729 - accuracy: 0.9743 - val_loss: 0.7160 - val_accuracy: 0.8778\n",
            "Epoch 43/100\n",
            "226/226 [==============================] - 1s 3ms/step - loss: 0.0690 - accuracy: 0.9756 - val_loss: 0.7171 - val_accuracy: 0.8654\n",
            "Epoch 44/100\n",
            "226/226 [==============================] - 1s 3ms/step - loss: 0.0703 - accuracy: 0.9747 - val_loss: 0.7234 - val_accuracy: 0.8716\n",
            "Epoch 45/100\n",
            "226/226 [==============================] - 1s 2ms/step - loss: 0.0678 - accuracy: 0.9778 - val_loss: 0.7758 - val_accuracy: 0.8509\n",
            "Epoch 46/100\n",
            "226/226 [==============================] - 1s 3ms/step - loss: 0.0736 - accuracy: 0.9703 - val_loss: 0.7578 - val_accuracy: 0.8489\n",
            "Epoch 47/100\n",
            "226/226 [==============================] - 1s 2ms/step - loss: 0.0692 - accuracy: 0.9729 - val_loss: 0.7999 - val_accuracy: 0.8696\n",
            "Epoch 48/100\n",
            "226/226 [==============================] - 1s 3ms/step - loss: 0.0611 - accuracy: 0.9783 - val_loss: 0.7900 - val_accuracy: 0.8385\n",
            "Epoch 49/100\n",
            "226/226 [==============================] - 1s 2ms/step - loss: 0.0742 - accuracy: 0.9711 - val_loss: 0.8227 - val_accuracy: 0.8706\n",
            "Epoch 50/100\n",
            "226/226 [==============================] - 1s 5ms/step - loss: 0.0790 - accuracy: 0.9729 - val_loss: 0.7649 - val_accuracy: 0.8768\n",
            "Epoch 51/100\n",
            "226/226 [==============================] - 1s 4ms/step - loss: 0.0658 - accuracy: 0.9720 - val_loss: 0.8267 - val_accuracy: 0.8613\n",
            "Epoch 52/100\n",
            "226/226 [==============================] - 1s 4ms/step - loss: 0.0537 - accuracy: 0.9822 - val_loss: 0.7930 - val_accuracy: 0.8520\n",
            "Epoch 53/100\n",
            "226/226 [==============================] - 1s 3ms/step - loss: 0.0514 - accuracy: 0.9796 - val_loss: 0.8336 - val_accuracy: 0.8696\n",
            "Epoch 54/100\n",
            "226/226 [==============================] - 1s 3ms/step - loss: 0.0513 - accuracy: 0.9796 - val_loss: 0.8434 - val_accuracy: 0.8540\n",
            "Epoch 55/100\n",
            "226/226 [==============================] - 1s 2ms/step - loss: 0.0604 - accuracy: 0.9729 - val_loss: 0.8525 - val_accuracy: 0.8768\n",
            "Epoch 56/100\n",
            "226/226 [==============================] - 1s 3ms/step - loss: 0.0579 - accuracy: 0.9791 - val_loss: 0.8293 - val_accuracy: 0.8582\n",
            "Epoch 57/100\n",
            "226/226 [==============================] - 1s 3ms/step - loss: 0.0532 - accuracy: 0.9822 - val_loss: 0.8479 - val_accuracy: 0.8592\n",
            "Epoch 58/100\n",
            "226/226 [==============================] - 1s 3ms/step - loss: 0.0597 - accuracy: 0.9783 - val_loss: 0.8240 - val_accuracy: 0.8540\n",
            "Epoch 59/100\n",
            "226/226 [==============================] - 1s 3ms/step - loss: 0.0592 - accuracy: 0.9769 - val_loss: 0.8677 - val_accuracy: 0.8489\n",
            "Epoch 60/100\n",
            "226/226 [==============================] - 1s 3ms/step - loss: 0.0583 - accuracy: 0.9787 - val_loss: 0.8516 - val_accuracy: 0.8602\n",
            "Epoch 61/100\n",
            "226/226 [==============================] - 1s 3ms/step - loss: 0.0531 - accuracy: 0.9778 - val_loss: 0.9057 - val_accuracy: 0.8551\n",
            "Epoch 62/100\n",
            "226/226 [==============================] - 1s 3ms/step - loss: 0.0556 - accuracy: 0.9765 - val_loss: 0.9106 - val_accuracy: 0.8644\n",
            "Epoch 63/100\n",
            "226/226 [==============================] - 1s 3ms/step - loss: 0.0516 - accuracy: 0.9845 - val_loss: 0.9086 - val_accuracy: 0.8623\n",
            "Epoch 64/100\n",
            "226/226 [==============================] - 1s 3ms/step - loss: 0.0411 - accuracy: 0.9858 - val_loss: 0.9024 - val_accuracy: 0.8654\n",
            "Epoch 65/100\n",
            "226/226 [==============================] - 1s 2ms/step - loss: 0.0461 - accuracy: 0.9809 - val_loss: 0.9202 - val_accuracy: 0.8271\n",
            "Epoch 66/100\n",
            "226/226 [==============================] - 1s 3ms/step - loss: 0.0423 - accuracy: 0.9862 - val_loss: 0.9468 - val_accuracy: 0.8561\n",
            "Epoch 67/100\n",
            "226/226 [==============================] - 1s 3ms/step - loss: 0.0446 - accuracy: 0.9818 - val_loss: 0.9571 - val_accuracy: 0.8644\n",
            "Epoch 68/100\n",
            "226/226 [==============================] - 1s 3ms/step - loss: 0.0380 - accuracy: 0.9876 - val_loss: 1.0119 - val_accuracy: 0.8644\n",
            "Epoch 69/100\n",
            "226/226 [==============================] - 1s 3ms/step - loss: 0.0505 - accuracy: 0.9827 - val_loss: 0.9644 - val_accuracy: 0.8571\n",
            "Epoch 70/100\n",
            "226/226 [==============================] - 1s 5ms/step - loss: 0.0337 - accuracy: 0.9876 - val_loss: 0.9546 - val_accuracy: 0.8737\n",
            "Epoch 71/100\n",
            "226/226 [==============================] - 1s 5ms/step - loss: 0.0663 - accuracy: 0.9818 - val_loss: 0.9504 - val_accuracy: 0.8416\n",
            "Epoch 72/100\n",
            "226/226 [==============================] - 1s 4ms/step - loss: 0.0755 - accuracy: 0.9751 - val_loss: 0.9847 - val_accuracy: 0.8778\n",
            "Epoch 73/100\n",
            "226/226 [==============================] - 1s 3ms/step - loss: 0.0566 - accuracy: 0.9827 - val_loss: 0.9452 - val_accuracy: 0.8313\n",
            "Epoch 74/100\n",
            "226/226 [==============================] - 1s 3ms/step - loss: 0.0415 - accuracy: 0.9840 - val_loss: 0.9240 - val_accuracy: 0.8364\n",
            "Epoch 75/100\n",
            "226/226 [==============================] - 1s 3ms/step - loss: 0.0345 - accuracy: 0.9876 - val_loss: 0.9984 - val_accuracy: 0.8696\n",
            "Epoch 76/100\n",
            "226/226 [==============================] - 1s 2ms/step - loss: 0.0303 - accuracy: 0.9898 - val_loss: 0.9719 - val_accuracy: 0.8685\n",
            "Epoch 77/100\n",
            "226/226 [==============================] - 1s 2ms/step - loss: 0.0305 - accuracy: 0.9907 - val_loss: 0.9648 - val_accuracy: 0.8571\n",
            "Epoch 78/100\n",
            "226/226 [==============================] - 1s 2ms/step - loss: 0.0369 - accuracy: 0.9889 - val_loss: 1.0817 - val_accuracy: 0.8685\n",
            "Epoch 79/100\n",
            "226/226 [==============================] - 1s 2ms/step - loss: 0.0412 - accuracy: 0.9907 - val_loss: 0.9643 - val_accuracy: 0.8478\n",
            "Epoch 80/100\n",
            "226/226 [==============================] - 1s 2ms/step - loss: 0.0405 - accuracy: 0.9840 - val_loss: 1.0133 - val_accuracy: 0.8747\n",
            "Epoch 81/100\n",
            "226/226 [==============================] - 1s 2ms/step - loss: 0.0539 - accuracy: 0.9845 - val_loss: 1.0176 - val_accuracy: 0.8747\n",
            "Epoch 82/100\n",
            "226/226 [==============================] - 1s 2ms/step - loss: 0.0344 - accuracy: 0.9885 - val_loss: 1.0048 - val_accuracy: 0.8634\n",
            "Epoch 83/100\n",
            "226/226 [==============================] - 1s 2ms/step - loss: 0.0279 - accuracy: 0.9898 - val_loss: 1.0188 - val_accuracy: 0.8571\n",
            "Epoch 84/100\n",
            "226/226 [==============================] - 1s 2ms/step - loss: 0.0299 - accuracy: 0.9885 - val_loss: 1.0799 - val_accuracy: 0.8696\n",
            "Epoch 85/100\n",
            "226/226 [==============================] - 1s 3ms/step - loss: 0.0255 - accuracy: 0.9907 - val_loss: 1.0874 - val_accuracy: 0.8634\n",
            "Epoch 86/100\n",
            "226/226 [==============================] - 1s 3ms/step - loss: 0.0331 - accuracy: 0.9876 - val_loss: 1.1306 - val_accuracy: 0.8634\n",
            "Epoch 87/100\n",
            "226/226 [==============================] - 1s 2ms/step - loss: 0.0540 - accuracy: 0.9800 - val_loss: 1.0847 - val_accuracy: 0.8706\n",
            "Epoch 88/100\n",
            "226/226 [==============================] - 1s 2ms/step - loss: 0.0506 - accuracy: 0.9818 - val_loss: 1.0750 - val_accuracy: 0.8395\n",
            "Epoch 89/100\n",
            "226/226 [==============================] - 1s 3ms/step - loss: 0.0717 - accuracy: 0.9765 - val_loss: 1.0830 - val_accuracy: 0.8592\n",
            "Epoch 90/100\n",
            "226/226 [==============================] - 1s 5ms/step - loss: 0.0407 - accuracy: 0.9858 - val_loss: 1.0394 - val_accuracy: 0.8654\n",
            "Epoch 91/100\n",
            "226/226 [==============================] - 1s 4ms/step - loss: 0.0254 - accuracy: 0.9925 - val_loss: 1.0733 - val_accuracy: 0.8602\n",
            "Epoch 92/100\n",
            "226/226 [==============================] - 1s 4ms/step - loss: 0.0244 - accuracy: 0.9916 - val_loss: 1.0999 - val_accuracy: 0.8530\n",
            "Epoch 93/100\n",
            "226/226 [==============================] - 1s 3ms/step - loss: 0.0222 - accuracy: 0.9920 - val_loss: 1.1237 - val_accuracy: 0.8758\n",
            "Epoch 94/100\n",
            "226/226 [==============================] - 1s 3ms/step - loss: 0.0258 - accuracy: 0.9898 - val_loss: 1.1477 - val_accuracy: 0.8634\n",
            "Epoch 95/100\n",
            "226/226 [==============================] - 1s 3ms/step - loss: 0.0251 - accuracy: 0.9911 - val_loss: 1.1345 - val_accuracy: 0.8634\n",
            "Epoch 96/100\n",
            "226/226 [==============================] - 1s 3ms/step - loss: 0.0205 - accuracy: 0.9925 - val_loss: 1.1973 - val_accuracy: 0.8582\n",
            "Epoch 97/100\n",
            "226/226 [==============================] - 1s 3ms/step - loss: 0.0214 - accuracy: 0.9920 - val_loss: 1.2137 - val_accuracy: 0.8561\n",
            "Epoch 98/100\n",
            "226/226 [==============================] - 1s 2ms/step - loss: 0.0259 - accuracy: 0.9911 - val_loss: 1.3422 - val_accuracy: 0.8685\n",
            "Epoch 99/100\n",
            "226/226 [==============================] - 1s 3ms/step - loss: 0.0924 - accuracy: 0.9689 - val_loss: 1.0560 - val_accuracy: 0.8758\n",
            "Epoch 100/100\n",
            "226/226 [==============================] - 1s 3ms/step - loss: 0.0603 - accuracy: 0.9796 - val_loss: 0.9853 - val_accuracy: 0.8727\n"
          ]
        }
      ]
    },
    {
      "cell_type": "code",
      "source": [
        "y_pred = cl.predict(X_test)\n",
        "y_pred = (y_pred > 0.5)"
      ],
      "metadata": {
        "colab": {
          "base_uri": "https://localhost:8080/"
        },
        "id": "_A2fVfq1odkP",
        "outputId": "8f2611ef-947e-408d-d332-86d82268936e"
      },
      "execution_count": null,
      "outputs": [
        {
          "output_type": "stream",
          "name": "stdout",
          "text": [
            "26/26 [==============================] - 1s 4ms/step\n"
          ]
        }
      ]
    },
    {
      "cell_type": "code",
      "source": [
        "from sklearn.metrics import confusion_matrix, accuracy_score, precision_score, recall_score, f1_score\n"
      ],
      "metadata": {
        "id": "UHjJmWcmpaOV"
      },
      "execution_count": null,
      "outputs": []
    },
    {
      "cell_type": "code",
      "source": [
        "cm = confusion_matrix(Y_test, y_pred)\n",
        "accuracy = accuracy_score(Y_test, y_pred)\n",
        "precision = precision_score(Y_test, y_pred, average='binary')\n",
        "recall = recall_score(Y_test, y_pred, average='binary')\n",
        "f1 = f1_score(Y_test, y_pred, average='binary')\n",
        "\n",
        "print(\"Confusion Matrix:\")\n",
        "print(cm)\n",
        "print(\"Accuracy:\", accuracy)\n",
        "print(\"Precision:\", precision)\n",
        "print(\"Recall:\", recall)\n",
        "print(\"F1 Score:\", f1)"
      ],
      "metadata": {
        "colab": {
          "base_uri": "https://localhost:8080/"
        },
        "id": "GussVFxDp5rV",
        "outputId": "1b02356d-aa11-4b95-e00a-0a0ad13d1b73"
      },
      "execution_count": null,
      "outputs": [
        {
          "output_type": "stream",
          "name": "stdout",
          "text": [
            "Confusion Matrix:\n",
            "[[612  55]\n",
            " [ 70  68]]\n",
            "Accuracy: 0.84472049689441\n",
            "Precision: 0.5528455284552846\n",
            "Recall: 0.4927536231884058\n",
            "F1 Score: 0.5210727969348659\n"
          ]
        }
      ]
    },
    {
      "cell_type": "code",
      "source": [
        "plt.plot(model.history['accuracy'])\n",
        "plt.plot(model.history['val_accuracy'])\n",
        "plt.title('Model Accuracy')\n",
        "plt.ylabel('Accuracy')\n",
        "plt.xlabel('Epoch')\n",
        "plt.legend(['Training', 'Validation'], loc='lower right')\n",
        "plt.show()"
      ],
      "metadata": {
        "colab": {
          "base_uri": "https://localhost:8080/",
          "height": 472
        },
        "id": "l6-B9A7pp-E3",
        "outputId": "9063bc05-9062-4f19-9f9b-ffdbef5899f5"
      },
      "execution_count": null,
      "outputs": [
        {
          "output_type": "display_data",
          "data": {
            "text/plain": [
              "<Figure size 640x480 with 1 Axes>"
            ],
            "image/png": "[encoded data removed]"
          },
          "metadata": {}
        }
      ]
    },
    {
      "cell_type": "code",
      "source": [
        "plt.plot(model.history['loss'])\n",
        "plt.plot(model.history['val_loss'])\n",
        "plt.title('Model Loss')\n",
        "plt.ylabel('Loss')\n",
        "plt.xlabel('Epoch')\n",
        "plt.legend(['Training', 'Validation'], loc='lower right')\n",
        "plt.show()\n"
      ],
      "metadata": {
        "colab": {
          "base_uri": "https://localhost:8080/",
          "height": 472
        },
        "id": "o602ZhllqB3J",
        "outputId": "9d3823cf-f2be-42da-a02e-24b258b90b8d"
      },
      "execution_count": null,
      "outputs": [
        {
          "output_type": "display_data",
          "data": {
            "text/plain": [
              "<Figure size 640x480 with 1 Axes>"
            ],
            "image/png": "[encoded data removed]"
          },
          "metadata": {}
        }
      ]
    },
    {
      "cell_type": "code",
      "source": [
        "cl.save(\"breast_cancer_model.h5\")"
      ],
      "metadata": {
        "id": "X4Jg35zTqE6n"
      },
      "execution_count": null,
      "outputs": []
    },
    {
      "cell_type": "code",
      "source": [
        "print(df.columns)"
      ],
      "metadata": {
        "colab": {
          "base_uri": "https://localhost:8080/"
        },
        "id": "oXHL_0I2qH7h",
        "outputId": "2a97a0cc-507f-4bb2-9bd6-c270bcc1f4fd"
      },
      "execution_count": null,
      "outputs": [
        {
          "output_type": "stream",
          "name": "stdout",
          "text": [
            "Index(['Age', 'Race ', 'Marital Status', 'T Stage ', 'N Stage', '6th Stage',\n",
            "       'Grade', 'A Stage', 'Tumor Size', 'Estrogen Status',\n",
            "       'Progesterone Status', 'Regional Node Examined',\n",
            "       'Reginol Node Positive', 'Survival Months', 'Status'],\n",
            "      dtype='object')\n"
          ]
        }
      ]
    },
    {
      "cell_type": "code",
      "source": [
        "from tensorflow.keras.models import load_model\n"
      ],
      "metadata": {
        "id": "ZbSPboNZqKqM"
      },
      "execution_count": null,
      "outputs": []
    },
    {
      "cell_type": "code",
      "source": [
        "model = load_model(\"breast_cancer_model.h5\")\n",
        "print(model.summary())"
      ],
      "metadata": {
        "colab": {
          "base_uri": "https://localhost:8080/"
        },
        "id": "um0mMaLLqOYp",
        "outputId": "ea066100-73bf-4eea-c7c4-a5172f42e0cd"
      },
      "execution_count": null,
      "outputs": [
        {
          "output_type": "stream",
          "name": "stdout",
          "text": [
            "Model: \"sequential\"\n",
            "_________________________________________________________________\n",
            " Layer (type)                Output Shape              Param #   \n",
            "=================================================================\n",
            " dense (Dense)               (None, 16)                432       \n",
            "                                                                 \n",
            " dense_1 (Dense)             (None, 32)                544       \n",
            "                                                                 \n",
            " dense_2 (Dense)             (None, 64)                2112      \n",
            "                                                                 \n",
            " dense_3 (Dense)             (None, 128)               8320      \n",
            "                                                                 \n",
            " dense_4 (Dense)             (None, 1)                 129       \n",
            "                                                                 \n",
            "=================================================================\n",
            "Total params: 11,537\n",
            "Trainable params: 11,537\n",
            "Non-trainable params: 0\n",
            "_________________________________________________________________\n",
            "None\n"
          ]
        }
      ]
    },
    {
      "cell_type": "code",
      "source": [
        "cl = load_model(\"breast_cancer_model.h5\")"
      ],
      "metadata": {
        "id": "5TVx7NYRqUOG"
      },
      "execution_count": null,
      "outputs": []
    },
    {
      "cell_type": "code",
      "source": [
        "# Load and preprocess the data\n",
        "from tensorflow.keras.models import load_model\n",
        "\n",
        "df = pd.read_csv(\"breast.csv\")\n",
        "df.isnull().sum()\n",
        "\n",
        "# Remove leading/trailing spaces in column names\n",
        "df.columns = df.columns.str.strip()\n",
        "\n",
        "encoded_data = pd.get_dummies(df, columns=['Race', 'Marital Status', 'T Stage', 'N Stage', '6th Stage', 'Grade', 'A Stage', 'Estrogen Status', 'Progesterone Status'], drop_first=True)\n",
        "encoded_data['Status'] = LabelEncoder().fit_transform(encoded_data['Status'])\n",
        "X = encoded_data.drop(columns='Status', axis=1)\n",
        "Y = encoded_data['Status']\n",
        "\n",
        "sc = StandardScaler()\n",
        "X = sc.fit_transform(X)\n",
        "\n",
        "# Load the saved model\n",
        "cl = load_model(\"breast_cancer_model.h5\")\n",
        "\n",
        "# User input\n",
        "age = float(input(\"Enter age: \"))\n",
        "race = input(\"Enter race (White/Black/Other): \")\n",
        "marital_status = input(\"Enter marital status (Married/Single/Divorced/Widowed): \")\n",
        "t_stage = input(\"Enter T Stage (T1/T2/T3/T4): \")\n",
        "n_stage = input(\"Enter N Stage (N0/N1/N2/N3): \")\n",
        "stage_6th = input(\"Enter 6th Stage (IIA/IIB/IIIA/IIIB/IIIC): \")\n",
        "grade = input(\"Enter Grade (I/II/III): \")\n",
        "a_stage = input(\"Enter A Stage (Local/Regional/Distant/Unknown): \")\n",
        "tumor_size = float(input(\"Enter Tumor Size: \"))\n",
        "estrogen_status = input(\"Enter Estrogen Status (Positive/Negative/Unknown): \")\n",
        "progesterone_status = input(\"Enter Progesterone Status (Positive/Negative/Unknown): \")\n",
        "regional_node_examined = int(input(\"Enter Regional Node Examined: \"))\n",
        "regional_node_positive = int(input(\"Enter Regional Node Positive: \"))\n",
        "survival_months = int(input(\"Enter Survival Months: \"))\n",
        "\n",
        "# Preprocess the new data\n",
        "new_data = pd.DataFrame({\n",
        "    'Age': [age],\n",
        "    'Race_' + race: [1],\n",
        "    'Marital Status_' + marital_status: [1],\n",
        "    'T Stage_' + t_stage: [1],\n",
        "    'N Stage_' + n_stage: [1],\n",
        "    '6th Stage_' + stage_6th: [1],\n",
        "    'Grade_' + grade: [1],\n",
        "    'A Stage_' + a_stage: [1],\n",
        "    'Tumor Size': [tumor_size],\n",
        "    'Estrogen Status_' + estrogen_status: [1],\n",
        "    'Progesterone Status_' + progesterone_status: [1],\n",
        "    'Regional Node Examined': [regional_node_examined],\n",
        "    'Regional Node Positive': [regional_node_positive],\n",
        "    'Survival Months': [survival_months]\n",
        "})\n",
        "\n",
        "# Add missing columns to new_data\n",
        "missing_columns = set(['Race_Black', 'Race_Other', 'Marital Status_Married (including common law)', 'Marital Status_Single (never married)', 'Marital Status_Divorced', 'Marital Status_Widowed']) - set(new_data.columns)\n",
        "for col in missing_columns:\n",
        "    new_data[col] = [0]\n",
        "\n",
        "# Perform one-hot encoding\n",
        "new_data_encoded = pd.get_dummies(new_data, columns=['Race_White', 'Race_Black', 'Race_Other', 'Marital Status_Married (including common law)', 'Marital Status_Single (never married)', 'Marital Status_Divorced', 'Marital Status_Widowed'], drop_first=True)\n",
        "new_data_encoded = new_data_encoded.reindex(columns=X[1], fill_value=0)\n",
        "new_data_scaled = sc.transform(new_data_encoded)\n",
        "\n",
        "\n",
        "\n",
        "# Perform prediction\n",
        "predicted_status = cl.predict(new_data_scaled)\n",
        "predicted_status = (predicted_status > 0.5)\n",
        "\n",
        "# Display the prediction result\n",
        "if predicted_status:\n",
        "    print(\"The likelihood of breast cancer is low.\")\n",
        "else:\n",
        "    print(\"The likelihood of breast cancer is high.\")\n"
      ],
      "metadata": {
        "colab": {
          "base_uri": "https://localhost:8080/"
        },
        "id": "k8TVZ7gRqZPa",
        "outputId": "16e423ae-fa2e-40f3-b58d-2c9ee148251b"
      },
      "execution_count": null,
      "outputs": [
        {
          "name": "stdout",
          "output_type": "stream",
          "text": [
            "Enter age: 69\n",
            "Enter race (White/Black/Other): White\n",
            "Enter marital status (Married/Single/Divorced/Widowed): Married\n",
            "Enter T Stage (T1/T2/T3/T4): T1\n",
            "Enter N Stage (N0/N1/N2/N3): N1\n",
            "Enter 6th Stage (IIA/IIB/IIIA/IIIB/IIIC): IIA\n",
            "Enter Grade (I/II/III): II\n",
            "Enter A Stage (Local/Regional/Distant/Unknown): Regional\n",
            "Enter Tumor Size: 12\n",
            "Enter Estrogen Status (Positive/Negative/Unknown): Positive\n",
            "Enter Progesterone Status (Positive/Negative/Unknown): Negative\n",
            "Enter Regional Node Examined: 9\n",
            "Enter Regional Node Positive: 1\n",
            "Enter Survival Months: 2\n"
          ]
        },
        {
          "output_type": "stream",
          "name": "stderr",
          "text": [
            "/usr/local/lib/python3.10/dist-packages/sklearn/base.py:439: UserWarning: X does not have valid feature names, but StandardScaler was fitted with feature names\n",
            "  warnings.warn(\n"
          ]
        },
        {
          "output_type": "stream",
          "name": "stdout",
          "text": [
            "1/1 [==============================] - 0s 125ms/step\n",
            "The likelihood of breast cancer is low.\n"
          ]
        }
      ]
    },
    {
      "cell_type": "code",
      "source": [
        "# Load and preprocess the data\n",
        "from tensorflow.keras.models import load_model\n",
        "\n",
        "df = pd.read_csv(\"breast.csv\")\n",
        "df.isnull().sum()\n",
        "\n",
        "# Remove leading/trailing spaces in column names\n",
        "df.columns = df.columns.str.strip()\n",
        "\n",
        "encoded_data = pd.get_dummies(df, columns=['Race', 'Marital Status', 'T Stage', 'N Stage', '6th Stage', 'Grade', 'A Stage', 'Estrogen Status', 'Progesterone Status'], drop_first=True)\n",
        "encoded_data['Status'] = LabelEncoder().fit_transform(encoded_data['Status'])\n",
        "X = encoded_data.drop(columns='Status', axis=1)\n",
        "Y = encoded_data['Status']\n",
        "\n",
        "sc = StandardScaler()\n",
        "X = sc.fit_transform(X)\n",
        "\n",
        "# Load the saved model\n",
        "cl = load_model(\"breast_cancer_model.h5\")\n",
        "\n",
        "# User input\n",
        "age = float(input(\"Enter age: \"))\n",
        "race = input(\"Enter race (White/Black/Other): \")\n",
        "marital_status = input(\"Enter marital status (Married/Single/Divorced/Widowed): \")\n",
        "t_stage = input(\"Enter T Stage (T1/T2/T3/T4): \")\n",
        "n_stage = input(\"Enter N Stage (N0/N1/N2/N3): \")\n",
        "stage_6th = input(\"Enter 6th Stage (IIA/IIB/IIIA/IIIB/IIIC): \")\n",
        "grade = input(\"Enter Grade (I/II/III): \")\n",
        "a_stage = input(\"Enter A Stage (Local/Regional/Distant/Unknown): \")\n",
        "tumor_size = float(input(\"Enter Tumor Size: \"))\n",
        "estrogen_status = input(\"Enter Estrogen Status (Positive/Negative/Unknown): \")\n",
        "progesterone_status = input(\"Enter Progesterone Status (Positive/Negative/Unknown): \")\n",
        "regional_node_examined = int(input(\"Enter Regional Node Examined: \"))\n",
        "regional_node_positive = int(input(\"Enter Regional Node Positive: \"))\n",
        "survival_months = int(input(\"Enter Survival Months: \"))\n",
        "\n",
        "# Preprocess the new data\n",
        "new_data = pd.DataFrame({\n",
        "    'Age': [age],\n",
        "    'Race_' + race: [1],\n",
        "    'Marital Status_' + marital_status: [1],\n",
        "    'T Stage_' + t_stage: [1],\n",
        "    'N Stage_' + n_stage: [1],\n",
        "    '6th Stage_' + stage_6th: [1],\n",
        "    'Grade_' + grade: [1],\n",
        "    'A Stage_' + a_stage: [1],\n",
        "    'Tumor Size': [tumor_size],\n",
        "    'Estrogen Status_' + estrogen_status: [1],\n",
        "    'Progesterone Status_' + progesterone_status: [1],\n",
        "    'Regional Node Examined': [regional_node_examined],\n",
        "    'Regional Node Positive': [regional_node_positive],\n",
        "    'Survival Months': [survival_months]\n",
        "})\n",
        "\n",
        "# Add missing columns to new_data\n",
        "missing_columns = set(['Race_Black', 'Race_Other', 'Marital Status_Married (including common law)', 'Marital Status_Single (never married)', 'Marital Status_Divorced', 'Marital Status_Widowed']) - set(new_data.columns)\n",
        "for col in missing_columns:\n",
        "    new_data[col] = [0]\n",
        "\n",
        "# Perform one-hot encoding\n",
        "new_data_encoded = pd.get_dummies(new_data, columns=['Race_White', 'Race_Black', 'Race_Other', 'Marital Status_Married (including common law)', 'Marital Status_Single (never married)', 'Marital Status_Divorced', 'Marital Status_Widowed'], drop_first=True)\n",
        "new_data_encoded = new_data_encoded.reindex(columns=X[1], fill_value=0)\n",
        "new_data_scaled = sc.transform(new_data_encoded)\n",
        "\n",
        "\n",
        "\n",
        "# Perform prediction\n",
        "predicted_status = cl.predict(new_data_scaled)\n",
        "predicted_status = (predicted_status > 0.5)\n",
        "\n",
        "# Display the prediction result\n",
        "if predicted_status:\n",
        "    print(\"The likelihood of breast cancer is low.\")\n",
        "else:\n",
        "    print(\"The likelihood of breast cancer is high.\")\n"
      ],
      "metadata": {
        "colab": {
          "base_uri": "https://localhost:8080/"
        },
        "id": "Ko741rLg2rfY",
        "outputId": "347b9f08-1f05-4dcf-f4ea-80f3925d98cd"
      },
      "execution_count": null,
      "outputs": [
        {
          "output_type": "stream",
          "name": "stdout",
          "text": [
            "Enter age: 53\n",
            "Enter race (White/Black/Other): White\n",
            "Enter marital status (Married/Single/Divorced/Widowed): Single\n",
            "Enter T Stage (T1/T2/T3/T4): T1\n",
            "Enter N Stage (N0/N1/N2/N3): N1\n",
            "Enter 6th Stage (IIA/IIB/IIIA/IIIB/IIIC): IIA\n",
            "Enter Grade (I/II/III): II\n",
            "Enter A Stage (Local/Regional/Distant/Unknown): Regional\n",
            "Enter Tumor Size: 17\n",
            "Enter Estrogen Status (Positive/Negative/Unknown): Positive\n",
            "Enter Progesterone Status (Positive/Negative/Unknown): Positive\n",
            "Enter Regional Node Examined: 1\n",
            "Enter Regional Node Positive: 1\n",
            "Enter Survival Months: 4\n",
            "1/1 [==============================] - 0s 79ms/step\n",
            "The likelihood of breast cancer is low.\n"
          ]
        },
        {
          "output_type": "stream",
          "name": "stderr",
          "text": [
            "/usr/local/lib/python3.10/dist-packages/sklearn/base.py:439: UserWarning: X does not have valid feature names, but StandardScaler was fitted with feature names\n",
            "  warnings.warn(\n"
          ]
        }
      ]
    },
    {
      "cell_type": "code",
      "source": [
        "# Load and preprocess the data\n",
        "from tensorflow.keras.models import load_model\n",
        "\n",
        "df = pd.read_csv(\"breast.csv\")\n",
        "df.isnull().sum()\n",
        "\n",
        "# Remove leading/trailing spaces in column names\n",
        "df.columns = df.columns.str.strip()\n",
        "\n",
        "encoded_data = pd.get_dummies(df, columns=['Race', 'Marital Status', 'T Stage', 'N Stage', '6th Stage', 'Grade', 'A Stage', 'Estrogen Status', 'Progesterone Status'], drop_first=True)\n",
        "encoded_data['Status'] = LabelEncoder().fit_transform(encoded_data['Status'])\n",
        "X = encoded_data.drop(columns='Status', axis=1)\n",
        "Y = encoded_data['Status']\n",
        "\n",
        "sc = StandardScaler()\n",
        "X = sc.fit_transform(X)\n",
        "\n",
        "# Load the saved model\n",
        "cl = load_model(\"breast_cancer_model.h5\")\n",
        "\n",
        "# User input\n",
        "age = float(input(\"Enter age: \"))\n",
        "race = input(\"Enter race (White/Black/Other): \")\n",
        "marital_status = input(\"Enter marital status (Married/Single/Divorced/Widowed): \")\n",
        "t_stage = input(\"Enter T Stage (T1/T2/T3/T4): \")\n",
        "n_stage = input(\"Enter N Stage (N0/N1/N2/N3): \")\n",
        "stage_6th = input(\"Enter 6th Stage (IIA/IIB/IIIA/IIIB/IIIC): \")\n",
        "grade = input(\"Enter Grade (I/II/III): \")\n",
        "a_stage = input(\"Enter A Stage (Local/Regional/Distant/Unknown): \")\n",
        "tumor_size = float(input(\"Enter Tumor Size: \"))\n",
        "estrogen_status = input(\"Enter Estrogen Status (Positive/Negative/Unknown): \")\n",
        "progesterone_status = input(\"Enter Progesterone Status (Positive/Negative/Unknown): \")\n",
        "regional_node_examined = int(input(\"Enter Regional Node Examined: \"))\n",
        "regional_node_positive = int(input(\"Enter Regional Node Positive: \"))\n",
        "survival_months = int(input(\"Enter Survival Months: \"))\n",
        "\n",
        "# Preprocess the new data\n",
        "new_data = pd.DataFrame({\n",
        "    'Age': [age],\n",
        "    'Race_' + race: [1],\n",
        "    'Marital Status_' + marital_status: [1],\n",
        "    'T Stage_' + t_stage: [1],\n",
        "    'N Stage_' + n_stage: [1],\n",
        "    '6th Stage_' + stage_6th: [1],\n",
        "    'Grade_' + grade: [1],\n",
        "    'A Stage_' + a_stage: [1],\n",
        "    'Tumor Size': [tumor_size],\n",
        "    'Estrogen Status_' + estrogen_status: [1],\n",
        "    'Progesterone Status_' + progesterone_status: [1],\n",
        "    'Regional Node Examined': [regional_node_examined],\n",
        "    'Regional Node Positive': [regional_node_positive],\n",
        "    'Survival Months': [survival_months]\n",
        "})\n",
        "\n",
        "# Add missing columns to new_data\n",
        "missing_columns = set(['Race_Black', 'Race_Other', 'Marital Status_Married (including common law)', 'Marital Status_Single (never married)', 'Marital Status_Divorced', 'Marital Status_Widowed']) - set(new_data.columns)\n",
        "for col in missing_columns:\n",
        "    new_data[col] = [0]\n",
        "\n",
        "# Perform one-hot encoding\n",
        "new_data_encoded = pd.get_dummies(new_data, columns=['Race_White', 'Race_Black', 'Race_Other', 'Marital Status_Married (including common law)', 'Marital Status_Single (never married)', 'Marital Status_Divorced', 'Marital Status_Widowed'], drop_first=True)\n",
        "new_data_encoded = new_data_encoded.reindex(columns=X[1], fill_value=0)\n",
        "new_data_scaled = sc.transform(new_data_encoded)\n",
        "\n",
        "\n",
        "\n",
        "# Perform prediction\n",
        "predicted_status = cl.predict(new_data_scaled)\n",
        "predicted_status = (predicted_status > 0.5)\n",
        "\n",
        "# Display the prediction result\n",
        "if predicted_status:\n",
        "    print(\"The likelihood of breast cancer is low.\")\n",
        "else:\n",
        "    print(\"The likelihood of breast cancer is high.\")\n"
      ],
      "metadata": {
        "colab": {
          "base_uri": "https://localhost:8080/"
        },
        "id": "5PRtco782t9o",
        "outputId": "3c8e2a05-5a6c-4ec6-ec8d-a4b6a35ad6d2"
      },
      "execution_count": null,
      "outputs": [
        {
          "name": "stdout",
          "output_type": "stream",
          "text": [
            "Enter age: 67\n",
            "Enter race (White/Black/Other): White\n",
            "Enter marital status (Married/Single/Divorced/Widowed): Married\n",
            "Enter T Stage (T1/T2/T3/T4): T3\n",
            "Enter N Stage (N0/N1/N2/N3): N2\n",
            "Enter 6th Stage (IIA/IIB/IIIA/IIIB/IIIC): IIIA\n",
            "Enter Grade (I/II/III): III\n",
            "Enter A Stage (Local/Regional/Distant/Unknown): Regional\n",
            "Enter Tumor Size: 55\n",
            "Enter Estrogen Status (Positive/Negative/Unknown): Positive\n",
            "Enter Progesterone Status (Positive/Negative/Unknown): Positive\n",
            "Enter Regional Node Examined: 9\n",
            "Enter Regional Node Positive: 9\n",
            "Enter Survival Months: 4\n"
          ]
        },
        {
          "output_type": "stream",
          "name": "stderr",
          "text": [
            "/usr/local/lib/python3.10/dist-packages/sklearn/base.py:439: UserWarning: X does not have valid feature names, but StandardScaler was fitted with feature names\n",
            "  warnings.warn(\n",
            "WARNING:tensorflow:5 out of the last 30 calls to <function Model.make_predict_function.<locals>.predict_function at 0x7fb736c46dd0> triggered tf.function retracing. Tracing is expensive and the excessive number of tracings could be due to (1) creating @tf.function repeatedly in a loop, (2) passing tensors with different shapes, (3) passing Python objects instead of tensors. For (1), please define your @tf.function outside of the loop. For (2), @tf.function has reduce_retracing=True option that can avoid unnecessary retracing. For (3), please refer to https://www.tensorflow.org/guide/function#controlling_retracing and https://www.tensorflow.org/api_docs/python/tf/function for  more details.\n"
          ]
        },
        {
          "output_type": "stream",
          "name": "stdout",
          "text": [
            "1/1 [==============================] - 0s 91ms/step\n",
            "The likelihood of breast cancer is high.\n"
          ]
        }
      ]
    },
    {
      "cell_type": "code",
      "source": [
        "9"
      ],
      "metadata": {
        "id": "x6w8u9YF3vzK"
      },
      "execution_count": null,
      "outputs": []
    }
  ]
}